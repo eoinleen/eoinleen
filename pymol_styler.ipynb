{
  "nbformat": 4,
  "nbformat_minor": 0,
  "metadata": {
    "colab": {
      "provenance": [],
      "authorship_tag": "ABX9TyNInuUaDnhuKt4xFoxYjFXb",
      "include_colab_link": true
    },
    "kernelspec": {
      "name": "python3",
      "display_name": "Python 3"
    },
    "language_info": {
      "name": "python"
    }
  },
  "cells": [
    {
      "cell_type": "markdown",
      "metadata": {
        "id": "view-in-github",
        "colab_type": "text"
      },
      "source": [
        "<a href=\"https://colab.research.google.com/github/eoinleen/eoinleen/blob/main/pymol_styler.ipynb\" target=\"_parent\"><img src=\"https://colab.research.google.com/assets/colab-badge.svg\" alt=\"Open In Colab\"/></a>"
      ]
    },
    {
      "cell_type": "code",
      "execution_count": null,
      "metadata": {
        "id": "Yn6zDRNvOHk5"
      },
      "outputs": [],
      "source": [
        "\"\"\"\n",
        "pymol-styler: A PyMOL extension for elegant protein visualization\n",
        "Author: Claude (Anthropic)\n",
        "License: MIT\n",
        "Version: 1.0.0\n",
        "Repository: https://github.com/anthropic/pymol-styler\n",
        "\n",
        "This PyMOL extension applies a set of carefully chosen visualization preferences\n",
        "for elegant and publication-ready protein structure representations.\n",
        "\"\"\"\n",
        "\n",
        "from pymol import cmd\n",
        "from pymol import stored\n",
        "\n",
        "def __init_plugin__(app=None):\n",
        "    \"\"\"\n",
        "    Plugin initialization method for PyMOL\n",
        "    \"\"\"\n",
        "    from pymol.plugins import addmenuitemqt\n",
        "    addmenuitemqt('Apply Elegant Style', style_protein)\n",
        "\n",
        "def style_protein(selection='all'):\n",
        "    \"\"\"\n",
        "    Apply elegant visualization style to protein structures\n",
        "\n",
        "    Usage:\n",
        "    style_protein [selection]\n",
        "\n",
        "    Example:\n",
        "    style_protein\n",
        "    style_protein 1afa\n",
        "    \"\"\"\n",
        "    # Cartoon appearance\n",
        "    cmd.set('cartoon_highlight_color', 'grey90')\n",
        "    cmd.set('cartoon_fancy_helices', 'on')\n",
        "    cmd.set('cartoon_dumbbell_length', 1.2)\n",
        "    cmd.set('cartoon_rect_length', 1.2)\n",
        "    cmd.set('cartoon_rect_width', 0.25)\n",
        "\n",
        "    # Lighting\n",
        "    cmd.set('ray_shadow', 'off')\n",
        "\n",
        "    print(f\"Applied elegant style to selection: {selection}\")\n",
        "\n",
        "# Register the extension function\n",
        "cmd.extend('style_protein', style_protein)\n",
        "\n",
        "# Add documentation\n",
        "style_protein.__doc__ = \"\"\"\n",
        "DESCRIPTION\n",
        "\n",
        "    Apply elegant visualization style to protein structures, optimized for\n",
        "    publication-quality images and presentations.\n",
        "\n",
        "USAGE\n",
        "\n",
        "    style_protein [selection]\n",
        "\n",
        "ARGUMENTS\n",
        "\n",
        "    selection = string: selection of models to apply style to {default: all}\n",
        "\n",
        "EXAMPLE\n",
        "\n",
        "    style_protein\n",
        "    style_protein 1afa\n",
        "\n",
        "NOTES\n",
        "\n",
        "    This style emphasizes:\n",
        "    - Clean, professional protein representations\n",
        "    - Enhanced helix visibility with fancy helices\n",
        "    - Optimized cartoon dimensions\n",
        "    - Shadow-free lighting for clarity\n",
        "\n",
        "SEE ALSO\n",
        "\n",
        "    set, cartoon\n",
        "\"\"\""
      ]
    }
  ]
}